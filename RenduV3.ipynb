{
 "cells": [
  {
   "cell_type": "markdown",
   "metadata": {},
   "source": [
    "# Project of Mobile Robotics "
   ]
  },
  {
   "cell_type": "markdown",
   "metadata": {},
   "source": [
    "Students: Farasoa Deborah Rajaona, Yasmine El Goumi, Alexandre de Montleau, François Charroin"
   ]
  },
  {
   "cell_type": "markdown",
   "metadata": {},
   "source": [
    "# Table of contents\n",
    "1. [Introduction](#intro)\n",
    "    * 1.1 [Description of the setup](#setup)\n",
    "    * 1.2 [Description of the tools used](#tools)\n",
    "\n",
    "\n",
    "2. [Image Analysis](#img)\n",
    "    * 2.1 [Detection of obstacles](#obs)\n",
    "       \n",
    "        \n",
    "3. [Global navigation](#nav)\n",
    "       \n",
    "4. [Local Navigation](#loc)\n",
    "\n",
    "5. [Motion control](#mov)\n",
    "\n",
    "6. [Kalman Filter](#kal)\n",
    "    * 6.1 [Theory](#kaltheory)\n",
    "    * 6.2 [Implementation](#kalimplementation)\n",
    "    * 6.3 [Discussion](#kaldiscussion)\n",
    "    \n",
    "\n",
    "7. [Overall Code Implementation](#ov)\n",
    "\n",
    "\n",
    "8. [Conclusion](#con)\n",
    "    * [Feedback](#feedback)\n",
    "    \n",
    "\n",
    "9. [Appendix]\n"
   ]
  },
  {
   "cell_type": "markdown",
   "metadata": {},
   "source": [
    "# 1. Introduction<a name=\"intro\"></a>"
   ]
  },
  {
   "cell_type": "markdown",
   "metadata": {},
   "source": [
    "As part of our Robotics master at EPFL, we have to program a mobile robot to follow a trajectory. This project consists of 4 different steps: create an environnement, find the best path, control the movements, and avoid obstacles. They require to develop tools: vision, global navigation, local navigation, filtering and motion control.\n"
   ]
  },
  {
   "cell_type": "markdown",
   "metadata": {},
   "source": [
    "![alt text](graph.png \"Title\")"
   ]
  },
  {
   "cell_type": "markdown",
   "metadata": {},
   "source": [
    "## Description of the setup <a name=\"setup\"></a>"
   ]
  },
  {
   "cell_type": "markdown",
   "metadata": {},
   "source": [
    "A camera (Aukey pc w1) is placed above the robot and has a view of the entire environnement set for the project. This environnement has been meticulously chosen so that the colors are easely separated by some thresholding functions. The robot (has two pieces of different colored paper (green and red) on its top so that the position and the angle can be deduced. The goal to reach is defined by a blue piece of paper. Obstacles are in black and the ground is white. "
   ]
  },
  {
   "cell_type": "markdown",
   "metadata": {},
   "source": [
    "## Description of tools used: <a name=\"tools\"></a>"
   ]
  },
  {
   "cell_type": "markdown",
   "metadata": {},
   "source": [
    "* __Vision:__\n",
    " the camera and some thresholding and filtering. => librairie CV2\n",
    "* __Global navigation:__\n",
    "an occupancy grid is created by A* search algorithm\n",
    "* __Local navigation:__\n",
    "the proximity sensors of the Thymio are used to detect obstacles.\n",
    "* __Motion control:__\n",
    "to reach the goal, two proportionnal controllers are used for the speed of the motors, one to control the orientation of the robot and the other to control its position.\n",
    "* __Filtering:__\n",
    "A Kalman filter is used to estimate the position.\n",
    "\n",
    "The next sections will go in depth about the implementation of these tools."
   ]
  },
  {
   "cell_type": "markdown",
   "metadata": {},
   "source": [
    "![alt text](elec.jpg \"Title\")"
   ]
  },
  {
   "cell_type": "code",
   "execution_count": 2,
   "metadata": {},
   "outputs": [],
   "source": [
    "#METTRE PHOTO DE THYMIO AVEC BONNE COULEURS SUR LUI"
   ]
  },
  {
   "cell_type": "markdown",
   "metadata": {},
   "source": [
    "## Discussion<a name=\"dis\"></a>"
   ]
  },
  {
   "cell_type": "markdown",
   "metadata": {},
   "source": [
    "During the presentation of the project, the details, limitations and goals of this task were established. Because the possibilities of Thymio are great, it was specifically asked to do as simple as possible. Hence a lot of thinking has been done to simplify the implementation without compromising on the robustness of it. \n",
    "\n",
    "At this point the project was divided into 4 parts: image analysis, path finding/navigation, motor control, and the Kalman filter.\n",
    "\n",
    "For the image analysis, the reflexion was really related to the choice of the environnement. To simplify the task, a color was assigned to each type of elements. Tests were done on different colors. Then a choice that has to be done in cooperation with the navigation part was the creation of the map. Thanks to the python library opencv it was possible to dilate obstacles and change the definition of the map.\n",
    "To conclude the image analysis, by choosing the colors of the elements of the environnement, it only makes the implementation vulnerable the to the light conditions, so by making it constant it makes the image analysis robust.\n",
    "\n",
    "Navigation is the center of the project, it is linked to all the other parts and the implementation has to be carefully done with respects to each module of the code. Therefore an effort has to be made to make it as simple as possible. For this reason an occupancy grid was chosen over a line based map for the global navigation. After computing the ideal path we only keep points that are at the intersection of a change of direction of the ideal path. These points are called checkpoints. Also we reduce their number using a condition on the distance between two checkpoints. We reduce the number of checkpoints in the aim to keep only the ones that are important for tracking. Thymio will reach each checkpoints, the last one is of course the goal. \n",
    "For the local navigation, a threshold is put on the proximity sensors, and then a predetermined motor sequence is used, with continuous rechecks from the sensors.\n",
    "\n",
    "As the robot is pretty slow there is no point in developing a complex controller, hence a p controller was chosen.\n",
    "\n",
    "The objective for the filter was to be computationally efficient, therefore the asumptions within the kalman filter make it faster than a particle filter.\n"
   ]
  },
  {
   "cell_type": "markdown",
   "metadata": {},
   "source": [
    "## Code <a name=\"code\"></a>"
   ]
  },
  {
   "cell_type": "markdown",
   "metadata": {},
   "source": [
    "The first thing to do is to import the libraries that will be used during the whole project."
   ]
  },
  {
   "cell_type": "code",
   "execution_count": 3,
   "metadata": {},
   "outputs": [],
   "source": [
    "import cv2\n",
    "import time\n",
    "import matplotlib.pyplot as plt\n",
    "import numpy as np\n",
    "\n",
    "%matplotlib notebook \n",
    "import matplotlib.pyplot as plt\n",
    "%matplotlib notebook\n",
    "\n",
    "from bokeh.plotting import figure\n",
    "from bokeh.io import output_notebook, show, push_notebook\n",
    "from tqdm import tqdm\n",
    "\n",
    "import IPython.display as Disp\n",
    "from ipywidgets import widgets"
   ]
  },
  {
   "cell_type": "markdown",
   "metadata": {},
   "source": [
    "### 1. Image Analysis <a name=\"img\"></a>"
   ]
  },
  {
   "cell_type": "markdown",
   "metadata": {},
   "source": [
    "The camera that captures the environnement from above is used for multiple puposes. At the begining, a picture is taken so that the details of the environnement can be known: localisation of obstacles, thymio robot, and the arrival that has to be reached. During the shifting of the robot the camera has a crucial role in determining the position and the angle of the mobile robot.\n",
    "\n",
    "- __Input__: a video \n",
    "\n",
    "- __Outputs__: Masks that separate the elements, the overall map, the localisation of the thymio and the arrival."
   ]
  },
  {
   "cell_type": "markdown",
   "metadata": {},
   "source": [
    "The picture below (created on paint) is the one with which the initial tests were done. It was a good way to tune the conditions for the masks."
   ]
  },
  {
   "cell_type": "code",
   "execution_count": null,
   "metadata": {},
   "outputs": [],
   "source": [
    "#mettre photo capture d'ecran et celle obstacles localisés cote à cote"
   ]
  },
  {
   "cell_type": "markdown",
   "metadata": {},
   "source": [
    "![alt text](testcolor3.jpg \"Title\")"
   ]
  },
  {
   "cell_type": "markdown",
   "metadata": {},
   "source": [
    "A crucial point for the image analysis is the choice of the colors, as previously written the four chosen are black, green, red and blue, because they are easy separates from one to another. "
   ]
  },
  {
   "cell_type": "markdown",
   "metadata": {},
   "source": [
    "Most of the images are converted to HSV, because it is less sensible to lightening conditions of the room."
   ]
  },
  {
   "cell_type": "markdown",
   "metadata": {},
   "source": [
    "<a name=\"obs\"></a>The first step during the image analysis is to determine where the obstacles are. They all have the same color:black. Therefore it's pretty simple to seperate them from the rest by using a filter and then creating a mask. The second part of this step is to dilate the obstacles in the mask thanks to the function cv2.dilate used in the second exercises session. The dilatation of the obstacles is done so that the size of the thymio can be ignored during the pathfinding step."
   ]
  },
  {
   "cell_type": "markdown",
   "metadata": {},
   "source": [
    "__The variables are:__\n",
    "\n",
    "- __lower dark and higher dark__: the lower and higher limits in hsv to detect black\n",
    "- __fin__: the map of the obstacles only"
   ]
  },
  {
   "cell_type": "markdown",
   "metadata": {},
   "source": [
    "We use the Aukey camera connected to the laptop by calling VideoCapture(0)."
   ]
  },
  {
   "cell_type": "code",
   "execution_count": null,
   "metadata": {},
   "outputs": [],
   "source": [
    "capture = cv2.VideoCapture(0) \n",
    "while True:\n",
    "    ret, frame = capture.read()\n",
    "    cv2.imshow('video', frame)\n",
    "    if cv2.waitKey(1) & 0xFF == ord('q'):\n",
    "        cv2.imwrite('capture.jpg', frame)\n",
    "        break\n",
    "capture.release()\n",
    "cv2.destroyAllWindows()"
   ]
  },
  {
   "cell_type": "markdown",
   "metadata": {},
   "source": [
    "A Gaussian Blur is used to remove the noise and make it easier to apply the black mask on the image."
   ]
  },
  {
   "cell_type": "code",
   "execution_count": null,
   "metadata": {},
   "outputs": [],
   "source": [
    "out=cv2.imread('capture.jpg')\n",
    "\n",
    "# Mask for black obstacles \n",
    "lower_dark = np.array([0,0,0])\n",
    "higher_dark = np.array([40,40,40])\n",
    "mask=cv2.inRange(out,lower_dark,higher_dark)\n",
    "mask=cv2.GaussianBlur(mask,(5,55),0)\n",
    "ret, mask = cv2.threshold(mask, 200, 255, cv2.THRESH_BINARY)\n",
    "\n",
    "result=cv2.bitwise_and(out,out,mask=mask)\n",
    "kernel = np.ones((50,50),np.uint8)\n",
    "fin = cv2.dilate(mask, kernel, iterations = 3)\n",
    "fig = plt.figure(figsize=(20, 14))\n",
    "columns=3\n",
    "fig.add_subplot(1, columns, 1)\n",
    "plt.imshow(cv2.cvtColor(out, cv2.COLOR_BGR2RGB)) \n",
    "fig.add_subplot(1, columns, 2)\n",
    "\n",
    "plt.imshow(fin)\n"
   ]
  },
  {
   "cell_type": "markdown",
   "metadata": {},
   "source": [
    "<a name=\"thy\"></a>The next step is to create a mask for each of the other colors: blue, green and red. For these mask the image is converted to HSV but the principle is the same as previously. Here there is no dilation as only the localisation of these colors is wanted."
   ]
  },
  {
   "cell_type": "markdown",
   "metadata": {},
   "source": [
    "First we'll have to use a function that converts pixels to cms so we can scale the goal and start accordingly and ease the calculations. To do so we take the measurement between the two colors on top of the Thymio, knowing it measures 5cm."
   ]
  },
  {
   "cell_type": "code",
   "execution_count": null,
   "metadata": {},
   "outputs": [],
   "source": [
    "#conversion pixels en cm\n",
    "def pix_to_cm(point_rouge1, point_rouge2, point):\n",
    "    \n",
    "    norme_rouge = np.sqrt((point_rouge2[0] - point_rouge1[0])**2 + (point_rouge2[1]- point_rouge1[1])**2)\n",
    "    point = np.array(point)*(5/norme_rouge)\n",
    "    \n",
    "    return point"
   ]
  },
  {
   "cell_type": "markdown",
   "metadata": {},
   "source": [
    "We initialize the masks for our different colours.\n",
    "\n",
    "__The variables are__:\n",
    "- __lower1 and upper1 or lower2 and upper2__: the lower and higher boundaries for the red colour in HSV\n",
    "- __low_green and high_green__: the lower and higher boundaries for the green colour in HSV\n",
    "- __low_blue and high_blue__: the lower and higher boundaries for the blue colour in HSV"
   ]
  },
  {
   "cell_type": "code",
   "execution_count": null,
   "metadata": {},
   "outputs": [],
   "source": [
    "# Initialisation\n",
    "low_green = np.array([40, 55, 70]) \n",
    "high_green = np.array([102, 255, 255]) \n",
    "\n",
    "low_blue = np.array([96, 100, 50])\n",
    "high_blue = np.array([126, 255, 255])\n",
    "\n",
    "point_rouge10= np.zeros(2,) # Point rouge sur le Thymio\n",
    "point_rouge20 = np.zeros(2,) # Point vert sur le Thymio\n",
    "\n",
    "# lower boundary RED color range values; Hue (0 - 10)\n",
    "lower1 = np.array([0, 100, 20])\n",
    "upper1 = np.array([10, 255, 255])\n",
    " \n",
    "# upper boundary RED color range values; Hue (160 - 180)\n",
    "lower2 = np.array([160,100,20])\n",
    "upper2 = np.array([179,255,255])\n"
   ]
  },
  {
   "cell_type": "markdown",
   "metadata": {},
   "source": [
    "Because these colors represent the thymio and the arrival, the localisation of these need to be known, hence their centroids are calculated in a similar way as it is done in the correction of the second exercise session in the _for c in contours_ loops.<a name=\"cen\"></a>\n",
    "\n",
    "The first loop is done to find the Thymio position via the red point, the second one via the green point, and the third loop is used to find the blue goal."
   ]
  },
  {
   "cell_type": "code",
   "execution_count": null,
   "metadata": {},
   "outputs": [],
   "source": [
    "cap = cv2.VideoCapture(0)"
   ]
  },
  {
   "cell_type": "code",
   "execution_count": null,
   "metadata": {},
   "outputs": [],
   "source": [
    "while True:\n",
    "    _, frame = cap.read()\n",
    "    #frame = cv2.GaussianBlur(frame,(5,35),0)\n",
    "    hsv_frame = cv2.cvtColor(frame, cv2.COLOR_BGR2HSV)\n",
    "    \n",
    "#1. Trouver la position du thymio, point ROUGE\n",
    "    #track_red:\n",
    "    \n",
    "    lower_mask = cv2.inRange(hsv_frame, lower1, upper1)\n",
    "    upper_mask = cv2.inRange(hsv_frame, lower2, upper2)\n",
    "    red_mask = lower_mask + upper_mask;\n",
    "    red = cv2.bitwise_and(frame, frame, mask=red_mask)\n",
    "    contours, hierarchy = cv2.findContours(red_mask, cv2.RETR_TREE, cv2.CHAIN_APPROX_SIMPLE)\n",
    "    point_rouge10 = np.zeros(2,)\n",
    "\n",
    "    \n",
    "    for c in contours:\n",
    "        \n",
    "        area = cv2.contourArea(c)\n",
    "        if area > 300:\n",
    "            cv2.drawContours(frame,[c],-1,(0,0,255), 3)\n",
    "            M = cv2.moments(c)\n",
    "            cx_red = int(M[\"m10\"]/ M[\"m00\"])\n",
    "            cy_red = int(M[\"m01\"]/ M[\"m00\"])\n",
    "            cv2.circle(frame,(cx_red,cy_red),7,(255,255,255),-1)\n",
    "            \n",
    "            \n",
    "            point_rouge10 =  [cx_red, cy_red]\n",
    "            cv2.putText(frame, str(cx_red), (cx_red-20,cy_red-20), 1,1, (255,255,255))\n",
    "            cv2.putText(frame, str(cy_red), (cx_red+20,cy_red-20), 1,1, (255,255,255))\n",
    "            \n",
    "                \n",
    "    cv2.imshow(\"result\",frame)\n",
    "\n",
    "#1. Trouver la position du thymio, point VERT\n",
    "    #track green:\n",
    "\n",
    "    green_mask = cv2.inRange(hsv_frame, low_green, high_green)\n",
    "    #green_mask = cv2.GaussianBlur(green_mask,(21,21),0)\n",
    "    green = cv2.bitwise_and(frame, frame, mask=green_mask)\n",
    "    \n",
    "    contours, hierarchy = cv2.findContours(green_mask, cv2.RETR_TREE, cv2.CHAIN_APPROX_SIMPLE)\n",
    "    \n",
    "    for c in contours:\n",
    "        \n",
    "        area = cv2.contourArea(c)\n",
    "        if area > 300:\n",
    "            cv2.drawContours(frame,[c],-1,(0,0,255), 3)\n",
    "            M = cv2.moments(c)\n",
    "            cx_green = int(M[\"m10\"]/ M[\"m00\"])\n",
    "            cy_green = int(M[\"m01\"]/ M[\"m00\"])\n",
    "            cv2.circle(frame,(cx_green,cy_green),7,(255,255,255),-1)\n",
    "            \n",
    "            point_rouge20 =  [cx_green, cy_green]\n",
    "            cv2.putText(frame, str(cx_green), (cx_green-20,cy_green-20), 1,1, (255,255,255))\n",
    "            cv2.putText(frame, str(cy_green), (cx_green+20,cy_green-20), 1,1, (255,255,255))\n",
    "              \n",
    "#2. Trouver le goal \n",
    "    # Track blue:\n",
    "    \n",
    "    blue_mask = cv2.inRange(hsv_frame, low_blue, high_blue)\n",
    "    blue = cv2.bitwise_and(frame, frame, mask=blue_mask)\n",
    "    \n",
    "    contours, hierarchy = cv2.findContours(blue_mask, cv2.RETR_TREE, cv2.CHAIN_APPROX_SIMPLE)\n",
    "    \n",
    "    for c in contours:\n",
    "        \n",
    "        area = cv2.contourArea(c)\n",
    "        if area > 300:\n",
    "            cv2.drawContours(frame,[c],-1,(255,0,0), 3)\n",
    "            M = cv2.moments(c)\n",
    "            cxb = int(M[\"m10\"]/ M[\"m00\"])\n",
    "            cyb = int(M[\"m01\"]/ M[\"m00\"])\n",
    "            cv2.circle(frame,(cxb,cyb),7,(255,255,255),-1)\n",
    "                \n",
    "            cv2.imshow(\"result\",frame)\n",
    "        \n",
    "            goal_pix = [cxb, cyb]\n",
    "        \n",
    "    \n",
    "    if cv2.waitKey(1) & 0xFF == ord('q'):\n",
    "        print('Goal position:', goal_pix)\n",
    "        break\n",
    "    "
   ]
  },
  {
   "cell_type": "markdown",
   "metadata": {},
   "source": [
    "There are two different colors on Thymio, green in the front and red in the back so that the angle for every orientiations can be calculated. The position of Thymio corresponds to the average of these two colors."
   ]
  },
  {
   "cell_type": "code",
   "execution_count": null,
   "metadata": {},
   "outputs": [],
   "source": [
    "#calcul de la position initiale du Thymio\n",
    "start_pix = [round((point_rouge20[0] + point_rouge10[0])/2), round((point_rouge20[1] + point_rouge10[1])/2)]\n",
    "print(\"Start in pixels:\", start_pix)"
   ]
  },
  {
   "cell_type": "markdown",
   "metadata": {},
   "source": [
    "At the beginning of the path finding the mask of the obstacles is resized so that it is less computationally demanding, therefore the localisations calculated with the centroïds need to be rescaled. The function round is used in order to have an integer."
   ]
  },
  {
   "cell_type": "code",
   "execution_count": null,
   "metadata": {},
   "outputs": [],
   "source": [
    "#rescale les coordonnées:\n",
    "xgoal = round(goal_pix[0]/30)\n",
    "ygoal = round(goal_pix[1]/30)\n",
    "\n",
    "xstart = round(start_pix[0]/30)\n",
    "ystart = round(start_pix[1]/30)\n",
    "\n",
    "goal = (ygoal,xgoal)\n",
    "goal_array_test = [xgoal, ygoal]\n",
    "goal_array2 = [xgoal, ygoal]\n",
    "\n",
    "start = (ystart,xstart)\n",
    "\n",
    "print(frame.shape) #montre y en premier"
   ]
  },
  {
   "cell_type": "markdown",
   "metadata": {},
   "source": [
    "Here are pros and cons about the tools implemented for the image analysis:\n",
    "\n",
    "__Pros__:\n",
    "- Good overall accuracy\n",
    "- Outliers are removed with the filtering\n",
    "\n",
    "__Cons__:\n",
    "- Dependant on the light condition of the room"
   ]
  },
  {
   "cell_type": "markdown",
   "metadata": {},
   "source": [
    "## 2. Navigation <a name=\"nav\"></a>"
   ]
  },
  {
   "cell_type": "markdown",
   "metadata": {},
   "source": [
    "The navigation is composed of two states: global and local navigation. This section will explore the two and the conditions that allow one navigation to take over the other."
   ]
  },
  {
   "cell_type": "markdown",
   "metadata": {},
   "source": [
    "### Global Navigation:<a name=\"glo\"></a>"
   ]
  },
  {
   "cell_type": "markdown",
   "metadata": {},
   "source": [
    "The global navigation is the primary type of navigation, and the one that should be used the most. It is a pathfinder that is called at the beginning. The path is determined by the map of the obstacles and the localisation of the thymio and the arrival.\n",
    "\n",
    "__Input__: a map which is the mask of obstacles, the localisation of the thymio and the arrival\n",
    "\n",
    "__Output__: the path to follow"
   ]
  },
  {
   "cell_type": "markdown",
   "metadata": {},
   "source": [
    "![alt text](map1.png \"Title\")"
   ]
  },
  {
   "cell_type": "markdown",
   "metadata": {},
   "source": [
    "Here is an example of a map created by the steps descibed in the image analysis part, the dilated obstacles are in yellow. The first step is to resize to a 64 by 36 image. The goal is to make an occupancy grid where one pixel correspond to one box of the grid. Resizing allows to have an occupancy grid with 9000 times less boxes, helping the pathfinding to be less computationnaly demanding. "
   ]
  },
  {
   "cell_type": "markdown",
   "metadata": {},
   "source": [
    "The global navigation of the robot uses an occupancy grid where one pixel represents one box of the grid. The path finding is done thanks to an A* algorithm with all possible 8-connectivity movements similary to the exercise session 5, here the occupancy grid is not a square but a rectangle."
   ]
  },
  {
   "cell_type": "markdown",
   "metadata": {},
   "source": [
    "The functions implemented are: \n",
    "\n",
    "- __create_empty_plot__: it is a helper function to create a figure of the desired dimensions & grid, we want a figure of 36x64\n",
    "- __get_movements__: get all the connectivity movements (4 or 8)\n",
    "- __reconstruct_path__: recurrently reconstructs the path from start node to the current node\n",
    "- __A_star__: A* for 2D occupancy grid. Finds a path from start to goal. h is the heuristic function. h(n) estimates the cost to reach goal from node n."
   ]
  },
  {
   "cell_type": "code",
   "execution_count": null,
   "metadata": {},
   "outputs": [],
   "source": [
    "dim = (64,36) #(64,36)\n",
    "\n",
    "mask_noir = cv2.resize(fin, dim, interpolation = cv2.INTER_AREA)\n",
    "max_valx = 36\n",
    "max_valy = 64\n",
    "\n",
    "data = np.array(mask_noir) #hough_maxima\n",
    "\n",
    "limit = 250\n",
    "occupancy_grid = data.copy()\n",
    "occupancy_grid[data>limit] = 1\n",
    "occupancy_grid[data<=limit] = 0"
   ]
  },
  {
   "cell_type": "code",
   "execution_count": null,
   "metadata": {},
   "outputs": [],
   "source": [
    "def create_empty_plot(max_valx, max_valy):\n",
    "    fig, ax = plt.subplots(figsize=(7,7))\n",
    "    \n",
    "    major_ticksx = np.arange(0, max_valx+1, 5)\n",
    "    minor_ticksx = np.arange(0, max_valx+1, 1)\n",
    "    \n",
    "    major_ticksy = np.arange(0, max_valy+1, 5)\n",
    "    minor_ticksy = np.arange(0, max_valy+1, 1)\n",
    "    \n",
    "    ax.set_xticks(major_ticksx)\n",
    "    ax.set_xticks(minor_ticksx, minor=True)\n",
    "    ax.set_yticks(major_ticksy)\n",
    "    ax.set_yticks(minor_ticksy, minor=True)\n",
    "    ax.grid(which='minor', alpha=0.2)\n",
    "    ax.grid(which='major', alpha=0.5)\n",
    "    ax.set_ylim([-1,max_valy])\n",
    "    ax.set_xlim([-1,max_valx])\n",
    "    ax.grid(True)\n",
    "    \n",
    "    return fig, ax"
   ]
  },
  {
   "cell_type": "code",
   "execution_count": null,
   "metadata": {},
   "outputs": [],
   "source": [
    "def _get_movements_4n():\n",
    "    return [(1, 0, 1.0),\n",
    "            (0, 1, 1.0),\n",
    "            (-1, 0, 1.0),\n",
    "            (0, -1, 1.0)]\n",
    "\n",
    "def _get_movements_8n():\n",
    "    s2 = math.sqrt(2)\n",
    "    return [(1, 0, 1.0),\n",
    "            (0, 1, 1.0),\n",
    "            (-1, 0, 1.0),\n",
    "            (0, -1, 1.0),\n",
    "            (1, 1, s2),\n",
    "            (-1, 1, s2),\n",
    "            (-1, -1, s2),\n",
    "            (1, -1, s2)]"
   ]
  },
  {
   "cell_type": "code",
   "execution_count": null,
   "metadata": {},
   "outputs": [],
   "source": [
    "def reconstruct_path(cameFrom, current):\n",
    "    total_path = [current]\n",
    "    while current in cameFrom.keys():#COOOL\n",
    "        #Add where the current node came from to the start of the list\n",
    "        total_path.insert(0, cameFrom[current]) #j'assigne à la position 0 à chaque fois.\n",
    "        current=cameFrom[current]\n",
    "    return total_path\n",
    "\n",
    "\n",
    "def A_Star(start, goal, h, coords, hough_maxima, movement_type=\"8N\", max_valy = max_valy):\n",
    "    \n",
    "    # Check if the start and goal are within the boundaries of the map\n",
    "    for point in [start, goal]:\n",
    "        for coord in point:\n",
    "            assert coord>=0 and coord<max_valy, \"start or end goal not contained in the map\"\n",
    "    \n",
    "    # check if start and goal nodes correspond to free spaces\n",
    "    if occupancy_grid[start[0], start[1]]:\n",
    "        raise Exception('Start node is not traversable')\n",
    "\n",
    "    if occupancy_grid[goal[0], goal[1]]: #je pense = 1 si  obstacle\n",
    "        raise Exception('Goal node is not traversable')\n",
    "    \n",
    "    # get the possible movements corresponding to the selected connectivity\n",
    "    if movement_type == '4N':\n",
    "        movements = _get_movements_4n()\n",
    "    elif movement_type == '8N':\n",
    "        movements = _get_movements_8n()\n",
    "    else:\n",
    "        raise ValueError('Unknown movement')\n",
    "    \n",
    "    \n",
    "    # Here we initialise the variables\n",
    "    \n",
    "    # The set of visited nodes that need to be (re-)expanded, i.e. for which the neighbors need to be explored\n",
    "    # Initially, only the start node is known.\n",
    "    openSet = [start]\n",
    "    \n",
    "    # The set of visited nodes that no longer need to be expanded.\n",
    "    closedSet = []\n",
    "\n",
    "    # For node n, cameFrom[n] is the node immediately preceding it on the cheapest path from start to n currently known.\n",
    "    cameFrom = dict() #camefrom le (x,y) sur le chemin optimal juste avant le node n = (currentx, currenty)\n",
    "\n",
    "    # For node n, gScore[n] is the cost of the cheapest path from start to n currently known.\n",
    "    gScore = dict(zip(coords, [np.inf for x in range(len(coords))]))\n",
    "    gScore[start] = 0\n",
    "\n",
    "    # For node n, fScore[n] := gScore[n] + h(n). map with default value of Infinity\n",
    "    fScore = dict(zip(coords, [np.inf for x in range(len(coords))])) #il donne la valeur infini à chaque coordonnées\n",
    "    fScore[start] = h[start] #ce h il vaut combien => on l'a calculé au départ\n",
    "#range creer tableau de longueur len(coords)\n",
    "    \n",
    "    # while there are still nodes to visit\n",
    "\n",
    "    while openSet != []:\n",
    "        \n",
    "            \n",
    "        min = np.inf\n",
    "        for p in openSet:\n",
    "            if fScore[p] < min: #ici je vais reach for celui qui a le plus petit fScore et donc hScore\n",
    "                min = fScore[p] \n",
    "                current = p\n",
    "                \n",
    "        #np.delete(openSet, current)\n",
    "        #np.append(ClosedSet, current)\n",
    "        \n",
    "        openSet.remove(current)\n",
    "        closedSet.append(current)\n",
    "    \n",
    "        #If the goal is reached, reconstruct and return the obtained path\n",
    "        \n",
    "        if current == goal: #ecriture vectorisé\n",
    "            return reconstruct_path(cameFrom,current), closedSet\n",
    "\n",
    "        # If the goal was not reached, for each neighbor of current:\n",
    "        for dx, dy, deltacost in movements:\n",
    "            \n",
    "            neighbor = (current[0]+dx, current[1]+dy)\n",
    "            \n",
    "            # if the node is not in the map, skip\n",
    "            if (neighbor[0] >= occupancy_grid.shape[0]) or (neighbor[1] >= occupancy_grid.shape[1]) or (neighbor[0] <0) or (neighbor[1] <0):\n",
    "                continue\n",
    "            \n",
    "            # if the node is occupied or has already been visited, skip\n",
    "            if (occupancy_grid[neighbor[0],neighbor[1]] == 1) or (neighbor in closedSet):\n",
    "                continue\n",
    "                \n",
    "            # compute the cost to reach the node through the given path\n",
    "            \n",
    "            tentative_gScore = gScore[current] + deltacost\n",
    "            \n",
    "            # Add the neighbor list of nodes who's neighbors need to be visited\n",
    "            if neighbor not in openSet:\n",
    "                openSet.append(neighbor)\n",
    "            \n",
    "            \n",
    "            # If the computed cost if the best one for that node, then update the costs and \n",
    "            # node from which it came\n",
    "            if tentative_gScore < gScore[neighbor]: #gScore[neighbor] a une valeur infinie\n",
    " \n",
    "                # This path to neighbor is better than any previous one. Record it!\n",
    "                cameFrom[neighbor] = current #j'ai l'impression que tout les neighbors de current seront dans camfrom hors on veut ceux qui on la plus faible f value\n",
    "                gScore[neighbor] = tentative_gScore \n",
    "                fScore[neighbor] = gScore[neighbor] + h[neighbor]  #ici je compute le fscore pour tout les neighbors et plus loin je vais chercher le fscore plus petit qui va devenir current\n",
    "                \n",
    "                \n",
    "\n",
    "    # Open set is empty but goal was never reached\n",
    "    print(\"No path found to goal\")\n",
    "    return [], closedSet                                                  "
   ]
  },
  {
   "cell_type": "markdown",
   "metadata": {},
   "source": [
    "Having a path constructed with an occupancy grid can lead to movement that is not smooth if there is a lot of direction changes. Each time the trajectory change in direction, a checkpoint is created."
   ]
  },
  {
   "cell_type": "code",
   "execution_count": null,
   "metadata": {},
   "outputs": [],
   "source": [
    "# List of all coordinates in the grid\n",
    "x,y = np.mgrid[0:occupancy_grid.shape[0]:1, 0:occupancy_grid.shape[1]:1] \n",
    "#x,y = np.mgrid[0:max_val:1, 0:max_val:1]\n",
    "pos = np.empty(x.shape + (2,))\n",
    "pos[:, :, 0] = x; pos[:, :, 1] = y\n",
    "pos = np.reshape(pos, (x.shape[0]*x.shape[1], 2))\n",
    "coords = list([(int(x[0]), int(x[1])) for x in pos])\n",
    "\n",
    "# Define the heuristic, here = distance to goal ignoring obstacles\n",
    "h = np.linalg.norm(pos - goal, axis=-1) \n",
    "h = dict(zip(coords, h)) # cool\n",
    "\n",
    "# Run the A* algorithm\n",
    "path, visitedNodes = A_Star(start, goal, h, coords, occupancy_grid, movement_type=\"8N\")\n",
    "\n",
    "checkpoint = []\n",
    "direction = []\n",
    "for x in range(1,len(path)):\n",
    "    v = np.array(path[x]) - np.array(path[x-1])\n",
    "    direction.append(v)\n",
    "\n",
    "for x in range(1,len(path)-1):\n",
    "    if ((direction[x-1][0] != direction[x][0]) | (direction[x-1][1] != direction[x][1])):\n",
    "               checkpoint.append(path[x])\n",
    "\n",
    "checkpoint.append(goal)\n",
    "            \n",
    "checkpoint_2 = np.array(checkpoint).reshape(-1, 2).transpose()\n",
    "\n",
    "path = np.array(path).reshape(-1, 2).transpose()\n",
    "visitedNodes = np.array(visitedNodes).reshape(-1, 2).transpose()"
   ]
  },
  {
   "cell_type": "code",
   "execution_count": null,
   "metadata": {},
   "outputs": [],
   "source": [
    "# Displaying the map\n",
    "fig_astar, ax_astar = create_empty_plot(36, 64)\n",
    "\n",
    "ax_astar.imshow(occupancy_grid.transpose(), origin='upper')\n",
    "ax_astar.scatter(visitedNodes[0], visitedNodes[1], marker=\"o\", color = 'orange');\n",
    "ax_astar.plot(path[0], path[1], marker=\"o\", color = 'blue');\n",
    "ax_astar.plot(checkpoint_2[0], checkpoint_2[1], marker=\"o\", color = 'black');\n",
    "ax_astar.scatter(start[0], start[1], marker=\"o\", color = 'red', s=200);\n",
    "ax_astar.scatter(goal[0], goal[1], marker=\"o\", color = 'blue', s=200);"
   ]
  },
  {
   "cell_type": "markdown",
   "metadata": {},
   "source": [
    "To reduce the number of checkpoints a minimum distance between them is set so that the trajectory can be mostly straight."
   ]
  },
  {
   "cell_type": "code",
   "execution_count": null,
   "metadata": {},
   "outputs": [],
   "source": [
    "# Smooth the checkpoints\n",
    "upsized_checkpoint =  [i * 30 for i in checkpoint_2]\n",
    "checkpoint_cm = pix_to_cm(point_rouge10, point_rouge20,upsized_checkpoint)\n",
    "\n",
    "x = checkpoint_cm[0]\n",
    "y = checkpoint_cm[1]\n",
    "\n",
    "new_checkpoint_2_x = checkpoint_2[0]\n",
    "new_checkpoint_2_y = checkpoint_2[0]\n",
    "\n",
    "\n",
    "\n",
    "var = []\n",
    "\n",
    "for j in range(0, len(checkpoint_cm[0])-2):\n",
    "    dist_current = np.sqrt((checkpoint_cm[0][j+1] - checkpoint_cm[0][j])**2 + (checkpoint_cm[1][j+1] - checkpoint_cm[1][j])**2)\n",
    "    if dist_current < 5:\n",
    "        var.append(j+1)   \n",
    "                \n",
    "\n",
    "new_checkpoint_x_cm = np.delete(x, var)\n",
    "new_checkpoint_y_cm = np.delete(y, var)\n",
    "\n",
    "new_checkpoint_x = np.delete(upsized_checkpoint[0], var)\n",
    "new_checkpoint_y = np.delete(upsized_checkpoint[1], var)\n",
    "\n",
    "new_checkpoint_2_x=np.delete(checkpoint_2[0], var)\n",
    "new_checkpoint_2_y=np.delete(checkpoint_2[1], var)\n",
    "\n",
    "print(checkpoint_2[0])\n",
    "print(new_checkpoint_2_x)"
   ]
  },
  {
   "cell_type": "code",
   "execution_count": null,
   "metadata": {},
   "outputs": [],
   "source": [
    "# Displaying the map\n",
    "fig_astar, ax_astar = create_empty_plot(36, 64)\n",
    "\n",
    "ax_astar.imshow(occupancy_grid.transpose(), origin='upper')\n",
    "ax_astar.scatter(visitedNodes[0], visitedNodes[1], marker=\"o\", color = 'orange');\n",
    "ax_astar.plot(path[0], path[1], marker=\"o\", color = 'blue');\n",
    "ax_astar.plot(new_checkpoint_2_x, new_checkpoint_2_y, marker=\"o\", color = 'black');\n",
    "ax_astar.scatter(start[0], start[1], marker=\"o\", color = 'red', s=200);\n",
    "ax_astar.scatter(goal[0], goal[1], marker=\"o\", color = 'blue', s=200);"
   ]
  },
  {
   "cell_type": "markdown",
   "metadata": {},
   "source": [
    "Here are pros and cons about the tools implemented for the global navigation:\n",
    "\n",
    "__Pros__:\n",
    "- Easy implementation\n",
    "- Computationnaly efficient\n",
    "\n",
    "__Cons__:\n",
    "- Only 8 directions possible"
   ]
  },
  {
   "cell_type": "code",
   "execution_count": 1,
   "metadata": {},
   "outputs": [],
   "source": [
    "#rajouter image du de la grille avec checkpoints puis celle avec nb checkpoints reduits"
   ]
  },
  {
   "cell_type": "markdown",
   "metadata": {},
   "source": [
    "### Local Navigation:<a name=\"loc\"></a>"
   ]
  },
  {
   "cell_type": "markdown",
   "metadata": {},
   "source": [
    "The goal of the local navigation is to avoid objects that will be placed after the creation of the map and the global navigation. It can also help to avoid objects that were not detected in the first place by the mask during the image analysis.\n",
    "\n",
    "__Inputs__: proximity sensors values\n",
    "\n",
    "__Outputs__: motors values"
   ]
  },
  {
   "cell_type": "markdown",
   "metadata": {},
   "source": [
    "The local navigation is done thanks to the proximity sensors. We use three of them so that obstacles on the front and on the sides can be detected. \n",
    "\n",
    "1. Obstacle is detected.\n",
    "2. Thymio will go backwards\n",
    "3. It will turn a 90 degree angle to the left or right, depending on the values of the sensor.\n",
    "4. It will go straight for a few seconds.\n",
    "5. Go back to global navigation.\n",
    "\n",
    "The variable named \"state\" correspond to the nature of navigation: local or global. If the state is at 0 it is set to global navigation, if it is at 1 it is in obstacle avoidance.\n",
    "\n",
    "The conditions of the switches between the two and the local navigation are shown below. \"obstThrH\" represent the theshold for the proximity sensors."
   ]
  },
  {
   "cell_type": "markdown",
   "metadata": {},
   "source": [
    "__The variables used are:__\n",
    "- __speed0__: it is the nominal speed during obstacle avoidance\n",
    "- __speedGain__: it is the speed proportional factor for the wheels\n",
    "- __obstThrL and obstThrH__: it is the low and high obstacke threshold to switch states\n",
    "- __obstSpeedGain__: it is the gain when turning the wheels\n",
    "- __Ul, Ur__: the speeds sent to the motor when switches are made\n",
    "- __tourne_g__: it's a state that defines whether the robot should turn left or not, depends on whether the obstacle is detected on the left or right of the robot.\n"
   ]
  },
  {
   "cell_type": "markdown",
   "metadata": {},
   "source": [
    "__*The local navigation code can be observed in the Overall implementation code.*__"
   ]
  },
  {
   "cell_type": "markdown",
   "metadata": {},
   "source": [
    "Here are pros and cons about the tools implemented for the local navigation:\n",
    "    \n",
    "__Pros__:\n",
    "- Synergises well with the global navigation\n",
    "    \n",
    "__Cons__:\n",
    "- Will not always lead to the best path\n"
   ]
  },
  {
   "cell_type": "markdown",
   "metadata": {},
   "source": [
    "## 3. Movement: global motion control<a name=\"mov\"></a>"
   ]
  },
  {
   "cell_type": "markdown",
   "metadata": {},
   "source": [
    "A Proportional controller is implemented.\n",
    "\n",
    "__The variables used are__:\n",
    "- __Ul, Ur__: the speeds that are sent to the motors\n",
    "- __Xr, Yr, theta_r__: the robot positions in real time\n",
    "- __The function \"motors\"__: sends the values to the robot\n",
    "- __Xt, Yt__: the target positions (the checkpoints and then the goal).\n",
    "\n",
    "The functions returns Ul, Ur and the errors."
   ]
  },
  {
   "cell_type": "code",
   "execution_count": null,
   "metadata": {},
   "outputs": [],
   "source": [
    "def controller(Xr, Yr, theta_r, Xt, Yt):\n",
    "    Ul = 0\n",
    "    Ur = 0\n",
    "    marge_s= 40\n",
    "    marge_t = 5   \n",
    "    \n",
    "    delta_Xref = Xt - Xr\n",
    "    delta_Yref = Yt - Yr\n",
    "    if delta_Xref != 0:\n",
    "        phi = round( np.rad2deg(np.arctan2(delta_Yref, delta_Xref)))\n",
    "        delta_phi = -(phi - theta_r)\n",
    "        #if phi >=0 and theta_r>=0:\n",
    "        #    delta_phi = -(phi + theta_r)\n",
    "        #if phi >=0 and theta_r<=0:\n",
    "        #    delta_phi = -(phi - theta_r)\n",
    "        \n",
    "        if phi <=0 and theta_r>0:\n",
    "            delta_phi = delta_phi\n",
    "        \n",
    "        \n",
    "    if delta_Xref == 0:\n",
    "        delta_phi = 90 - theta_r\n",
    "        phi = 90\n",
    "    \n",
    "    \n",
    "    Ks = 0.3 #1/(R*h)\n",
    "    #Ks = 0\n",
    "    Kt = 1.7 #/(R*h)\n",
    "    \n",
    "    #Angular error\n",
    "    Et = round(delta_phi)\n",
    "    \n",
    "    if abs(Et)< marge_t:\n",
    "        Et = 0\n",
    "        #Ks = 1\n",
    "        \n",
    "        \n",
    "    # Position error\n",
    "    Es = round(np.sqrt(delta_Xref**2 + delta_Yref**2 ) + np.cos(delta_phi))\n",
    "    \n",
    "    if abs(Es)< marge_s:\n",
    "        Es = 0\n",
    "        Et = 0\n",
    "    \n",
    "   \n",
    "    \n",
    "    #Proportional controller \n",
    "    Vs = Ks*Es\n",
    "    Vt = Kt*Et\n",
    "    \n",
    "    \n",
    "    Ul = 90+round(Vs - Vt) #delta_phi / Et < 0 => Vt<0: on tourne à droite \n",
    "    Ur = 90+round(Vs + Vt)\n",
    "    \n",
    "    if Ul > 350:\n",
    "        Ul = 350\n",
    "        \n",
    "    if Ur > 350:\n",
    "        Ur = 350\n",
    "        \n",
    "    if Ul < -350:\n",
    "        Ul = -350\n",
    "    \n",
    "    if Ur < -350:\n",
    "        Ur = -350\n",
    "    \n",
    "    return Ul, Ur, Es, Et, phi, Vs, Vt  "
   ]
  },
  {
   "cell_type": "code",
   "execution_count": null,
   "metadata": {},
   "outputs": [],
   "source": [
    "def motors(left, right):\n",
    "    return {\n",
    "        \"motor.left.target\": [left],\n",
    "        \"motor.right.target\": [right],\n",
    "    }"
   ]
  },
  {
   "cell_type": "markdown",
   "metadata": {},
   "source": [
    "Here are pros and cons about the tools implemented for the P controller:\n",
    "\n",
    "__Pros__:\n",
    "- Easy to work with\n",
    "- The speed of the robot makes it useless to use a more complex controller\n",
    "\n",
    "__Cons__:\n",
    "- Not the smoothest movement, some sudden moves may happen (that can actually impact the Kalman filter prediction)"
   ]
  },
  {
   "cell_type": "markdown",
   "metadata": {},
   "source": [
    "## 4. Kalman Filter<a name=\"kal\"></a>"
   ]
  },
  {
   "cell_type": "markdown",
   "metadata": {},
   "source": [
    "## Theory<a name=\"kaltheory\"></a>"
   ]
  },
  {
   "cell_type": "markdown",
   "metadata": {},
   "source": [
    "A Kalman filter is a sensor-fusion tool that is used to best approximate the robot's position in real time. In this case, the two sensors used are the positions in real time, coming from the camera, and the speed of the wheels, considered as inputs. The filter will help us localize the robot anytime, even if at some point, the camera is hidden, because the speed of the wheels is always known. It works as such:"
   ]
  },
  {
   "attachments": {
    "BIitP.png": {
     "image/png": "[encoded data removed]"
    }
   },
   "cell_type": "markdown",
   "metadata": {},
   "source": [
    "![BIitP.png](attachment:BIitP.png)"
   ]
  },
  {
   "cell_type": "markdown",
   "metadata": {},
   "source": [
    "The kinematic equations of a differential-drive robot are given, allowing us to define the A and B matrices."
   ]
  },
  {
   "attachments": {
    "equamouvement.JPG": {
     "image/jpeg": "[encoded data removed]"
    }
   },
   "cell_type": "markdown",
   "metadata": {},
   "source": [
    "![equamouvement.JPG](attachment:equamouvement.JPG)"
   ]
  },
  {
   "cell_type": "markdown",
   "metadata": {},
   "source": [
    "## Implementation <a name=\"kalimplementation\"></a>"
   ]
  },
  {
   "cell_type": "markdown",
   "metadata": {},
   "source": [
    "The variables used are:\n",
    "- __State_est_t, P_est_t__ : State_est_t it is the previous state during the prediction state, its composants are [x position, y position, angle], and P_est_t is the covariance matrix that we initialize as a diagonal matrix with 1000, but it will be updated later\n",
    "- __A__ is the identity matrix in our case\n",
    "- __B__: it has been computed following the kinematic equations of a differential-drive robot\n",
    "- __u__: the input vector, containing the speeds of the two wheels\n",
    "- __H__: the identity matrix because we observe our 3 states during the update step\n",
    "- __State_t, P_t__: the state and covariance matrix after the update step\n",
    "- __K__: the Kalman gain\n",
    "- __Q_t and R_t__: noise covariances matrices. For simplicity reasons, they have been chosen thanks to the 8th exercise session of the course.\n",
    "- __Z_t__: the measurements coming from the camera sensor\n",
    "- __temps_ecoule__: the time it takes to compute one while loop, it has been calculated and found that it takes 0.01s\n",
    "- __r__: the radius of the Thymio wheels\n",
    "- __l__: the length between the Thymio wheels\n",
    "\n",
    "During the update step there are two cases that can happen, and depend on __MaskAvailable__: \n",
    "\n",
    "- when MaskAvailable is True, that means the camera sensor is available and we receive the Z_t measurements, so the updates are computed. \n",
    "- if MaskAvailable is not available, then we are stuck in the prediction step and the Kalman gain is set to 0 to do that."
   ]
  },
  {
   "cell_type": "markdown",
   "metadata": {},
   "source": [
    "In the program it is calculated as follows:\n",
    "\n",
    "__Note__: The angle has to be converted to degrees as its output will be as radians."
   ]
  },
  {
   "cell_type": "code",
   "execution_count": null,
   "metadata": {},
   "outputs": [],
   "source": [
    "def prediction(State_est_t_1,P_t_1,Q_t,left_speed,right_speed, temps_ecoule):\n",
    "    k_v = 1\n",
    "    k_d= 1\n",
    "    r=2*k_d\n",
    "    l=9.5*k_d\n",
    "    State_est_t=State_est_t_1\n",
    "    State_est_t_1[2]=np.deg2rad(State_est_t_1[2])\n",
    "    \n",
    "    \n",
    "    A = np.array([[1, 0, 0], [0, 1, 0], [0, 0, 1]])\n",
    "    \n",
    "    B= np.array([[(r/2)*temps_ecoule*np.cos(State_est_t_1[2]),(r/2)*temps_ecoule*np.cos(State_est_t_1[2])], \n",
    "                 [(r/2)*temps_ecoule*np.sin(State_est_t_1[2]),(r/2)*temps_ecoule*np.sin(State_est_t_1[2])], \n",
    "                 [r*temps_ecoule/l, r*temps_ecoule/(-l)]])\n",
    "    \n",
    "    u=[left_speed*k_v, right_speed*k_v]\n",
    "    \n",
    "    State_est_t=np.dot(A,State_est_t_1)+np.dot(B,u)    \n",
    "    P_t_1 = np.dot(np.dot(A,P_t_1),A.T) + Q_t\n",
    "    \n",
    "    State_est_t[2]=np.rad2deg(State_est_t[2])\n",
    "\n",
    "    return State_est_t,P_t_1"
   ]
  },
  {
   "cell_type": "markdown",
   "metadata": {},
   "source": [
    "When this is done, what follows is the update of the parameters."
   ]
  },
  {
   "cell_type": "code",
   "execution_count": null,
   "metadata": {},
   "outputs": [],
   "source": [
    "def update(State_est_t,P_t,Z_t,R_t, MaskAvailable, points, angle):\n",
    "    H=np.array([[1, 0, 0], [0, 1, 0], [0, 0, 1]]) #matrice d'observation\n",
    "    \n",
    "    S = np.dot(np.dot(H,P_t),H.T) + R_t\n",
    "    \n",
    "    if MaskAvailable:\n",
    "        K = np.dot(np.dot(P_t,H.T),np.linalg.inv(S))\n",
    "    else:\n",
    "        K=0\n",
    "    \n",
    "    y = Z_t - np.dot(H,State_est_t)\n",
    "   \n",
    "    State_t = State_est_t + np.dot(K,y)\n",
    "    \n",
    "    I = np.eye(3)\n",
    "    P_t = np.dot((I - np.dot(K,H)),P_t)\n",
    "        \n",
    "    return State_t,P_t"
   ]
  },
  {
   "cell_type": "markdown",
   "metadata": {},
   "source": [
    "## Discussion <a name=\"kaldiscussion\"></a>"
   ]
  },
  {
   "cell_type": "markdown",
   "metadata": {},
   "source": [
    "The Kalman filter works perfectly as hoped when both sensors are used: there is a small error during the predicting step, that is corrected by the innovation/residual for the update step.\n",
    "\n",
    "However, when the camera is hidden, if an error starts appearing, it will not be corrected and will keep getting bigger and lead our robot the wrong way. That is why working with sensor-fusion with both sensors is the best way to know the robot's position. Since the setup and recognition of the robot relies heavily on the lightning of the room, the way the camera is hidden also heavily affects the filter: if the object hiding the camera is colourful, it could be mistaken as a red or green point and lead the algorithm to believe that that's where the robot is actually located. "
   ]
  },
  {
   "cell_type": "markdown",
   "metadata": {},
   "source": [
    "## 5. Overall Code Implementation<a name=\"ov\"></a>"
   ]
  },
  {
   "cell_type": "markdown",
   "metadata": {},
   "source": [
    "Now that we have the map, the goal, obstacles, start, we can start to navigate the Thymio. First, we initialize the variables for the functions stated above so as to not get errors."
   ]
  },
  {
   "cell_type": "markdown",
   "metadata": {},
   "source": [
    "First the controller variables:"
   ]
  },
  {
   "cell_type": "code",
   "execution_count": null,
   "metadata": {},
   "outputs": [],
   "source": [
    "Ul= 0 \n",
    "Ur= 0\n",
    "Es= 0 \n",
    "Et=0\n",
    "phi=0\n",
    "marge_s = 40\n",
    "marge_t = 5\n",
    "current = 0\n",
    "Xt = new_checkpoint_y\n",
    "Yt = new_checkpoint_x"
   ]
  },
  {
   "cell_type": "markdown",
   "metadata": {},
   "source": [
    "For the Kalman filter: "
   ]
  },
  {
   "cell_type": "code",
   "execution_count": null,
   "metadata": {},
   "outputs": [],
   "source": [
    "State_est_t=[0, 0, 0] \n",
    "Q_t = np.diag([0.0004, 0.0615, 0.0004])\n",
    "R_t=np.diag([0.0025, 0.0615, 0])\n",
    "angle_deg=0\n",
    "points=[[0], [0], [0]]\n",
    "P_t = np.diag([1000.0, 1000.0, 1000.0])\n",
    "speedconv=0.0435\n",
    "temps_ecoule=0.01\n",
    "Z_t=[0,0,0]\n",
    "j=0\n",
    "State_t=[0,0,0]\n",
    "P_t=np.diag([1000,1000,1000])\n",
    "prev_state = [[0,0,0] for i in range(0, 50)]"
   ]
  },
  {
   "cell_type": "markdown",
   "metadata": {},
   "source": [
    "For the local navigation:"
   ]
  },
  {
   "cell_type": "code",
   "execution_count": null,
   "metadata": {},
   "outputs": [],
   "source": [
    "speedGain = 2      # gain used with ground gradient\n",
    "obstThrH = 20      # high obstacle threshold to switch state 0->1\n",
    "obstSpeedGain = 10  # /100 (actual gain: 5/100=0.05)\n",
    "state = 0        # 0=follow the trajectory, 1=obstacle avoidance\n",
    "obst = [0,0]       # measurements from left and right prox sensors\n",
    "tourne_g = 0\n",
    "prox_horizontal = [0,0,0,0,0,0,0]"
   ]
  },
  {
   "cell_type": "markdown",
   "metadata": {},
   "source": [
    "Now we will start working in an infinite while loop that can be stopped if the user presses on the __'q'__ button while on the Python tab. "
   ]
  },
  {
   "cell_type": "markdown",
   "metadata": {},
   "source": [
    "The new variables introduced in this program are: \n",
    "- __prev_state__: it is an array that will store all the position values and will be very efficient for the Kalman filter. We had noticed that when the camera was hidden, the coordinates that were sent didn't change during the whole time it was hidden, so we use this array to see if the Thymio positions are the same for a certain time, then we are in the __MaskAvailable=False__ condition."
   ]
  },
  {
   "cell_type": "markdown",
   "metadata": {},
   "source": [
    "The steps followed by the algorithm are:\n",
    "1. Track the Thymio in real time: find its (x,y) coordinates, and its angle\n",
    "2. We send the positions to the Kalman filter as the __Z_t__ measurements to help with the update step.\n",
    "3. The updated estimations are sent to the controller: these estimations will be correct when the camera is available, if it is not, the controller will use the prediction estimations to keep navigating.\n",
    "4. The proximity values are taken every 0.01s, so as to not miss if an obstacle is put on the way.\n",
    "5. If an obstacle is detected, go into obstacle avoidance mode. Once it is not detected anymore, it goes back to global navigation."
   ]
  },
  {
   "cell_type": "code",
   "execution_count": null,
   "metadata": {},
   "outputs": [],
   "source": [
    "capt = cv2.VideoCapture(0) "
   ]
  },
  {
   "cell_type": "code",
   "execution_count": null,
   "metadata": {},
   "outputs": [],
   "source": [
    "# Motion of the Thymio\n",
    "\n",
    "while True:\n",
    "    _, frame = capt.read()\n",
    "    hsv_frame = cv2.cvtColor(frame, cv2.COLOR_BGR2HSV)\n",
    "    \n",
    "    # Dislay the goal \n",
    "    cv2.circle(frame,(goal_pix[0],goal_pix[1]),7,(255,255,255),-1)\n",
    "    \n",
    "    # Display the checkpoints:\n",
    "    for i in range(len(new_checkpoint_x)):\n",
    "        cv2.circle(frame,(new_checkpoint_y[i],new_checkpoint_x[i]),5,(0,255,255),-1)\n",
    "        \n",
    "    \n",
    "#1. Position in real time of the Thymio\n",
    "    # Track red dot\n",
    "    lower_mask = cv2.inRange(hsv_frame, lower1, upper1)\n",
    "    upper_mask = cv2.inRange(hsv_frame, lower2, upper2)\n",
    "    red_mask = lower_mask + upper_mask;\n",
    "    red = cv2.bitwise_and(result, result, mask=red_mask)\n",
    "    contours, hierarchy = cv2.findContours(red_mask, cv2.RETR_TREE, cv2.CHAIN_APPROX_SIMPLE)\n",
    "    \n",
    "    for c in contours:\n",
    "        area = cv2.contourArea(c)\n",
    "        if area > 300:\n",
    "            cv2.drawContours(frame,[c],-1,(0,0,255), 3)\n",
    "            M = cv2.moments(c)\n",
    "            cx_red_rt = int(M[\"m10\"]/ M[\"m00\"])\n",
    "            cy_red_rt = int(M[\"m01\"]/ M[\"m00\"])\n",
    "            cv2.circle(frame,(cx_red_rt,cy_red_rt),7,(0,0,255),-1)\n",
    "            pt_thymio_red_rt =  [cx_red_rt, cy_red_rt]\n",
    "    \n",
    "    # Track green dot:\n",
    "    green_mask = cv2.inRange(hsv_frame, low_green, high_green)\n",
    "    green = cv2.bitwise_and(frame, frame, mask=green_mask)\n",
    "    contours, hierarchy = cv2.findContours(green_mask, cv2.RETR_TREE, cv2.CHAIN_APPROX_SIMPLE)\n",
    "    \n",
    "    for c in contours:\n",
    "        area = cv2.contourArea(c)\n",
    "        if area > 300:\n",
    "            cv2.drawContours(frame,[c],-1,(0,0,255), 3)\n",
    "            M = cv2.moments(c)\n",
    "            cx_green_rt = int(M[\"m10\"]/ M[\"m00\"])\n",
    "            cy_green_rt = int(M[\"m01\"]/ M[\"m00\"])\n",
    "            cv2.circle(frame,(cx_green_rt,cy_green_rt),7,(0,255,0),-1)\n",
    "            pt_thymio_green_rt =  [cx_green_rt, cy_green_rt]\n",
    "    \n",
    "    # Position of the Thymio\n",
    "    position_thymio_rt = [round((pt_thymio_green_rt[0] + pt_thymio_red_rt[0])/2), round((pt_thymio_green_rt[1] + pt_thymio_red_rt[1])/2)]                  \n",
    "    \n",
    "    cv2.circle(frame,(position_thymio_rt[0],position_thymio_rt[1]),7,(255,255,255),-1)\n",
    "    cv2.putText(frame, str(position_thymio_rt[0]), (position_thymio_rt[0]-150,position_thymio_rt[1]), 2,2, (255,255,255))\n",
    "    cv2.putText(frame, str(position_thymio_rt[1]), (position_thymio_rt[0]+40,position_thymio_rt[1]), 2,2, (255,255,255))\n",
    "    \n",
    "\n",
    "#2. Angle in real time:\n",
    "    direct_thymio = [pt_thymio_green_rt[0]-pt_thymio_red_rt[0], pt_thymio_green_rt[1]-pt_thymio_red_rt[1]]            \n",
    "    vector_ref = [1, 0]            \n",
    "    unit_direct_thymio = direct_thymio / np.linalg.norm(direct_thymio)                \n",
    "    dot_product = np.dot(unit_direct_thymio, vector_ref)\n",
    "    angle = np.arccos(dot_product)\n",
    "    angle_deg = 360*angle/(2*np.pi) \n",
    "   \n",
    "    if unit_direct_thymio[1] <= 0: \n",
    "        angle_deg = -angle_deg \n",
    "                    \n",
    "    if unit_direct_thymio[1] > 0:\n",
    "        angle_deg = angle_deg \n",
    "               \n",
    "    cv2.putText(frame, str(angle_deg), (0,50), 2,2, (255,255,255))\n",
    "\n",
    "#3. Kalman: \n",
    "\n",
    "    j=j+1\n",
    "    if j==50:\n",
    "        j=0\n",
    "    \n",
    "    prev_state[j] = Z_t    \n",
    "    points=[position_thymio_rt[0],position_thymio_rt[1],angle_deg]\n",
    "                    \n",
    "    if prev_state[j]==prev_state[j-5]:\n",
    "        MaskAvailable=False\n",
    "        print('IMAGE FROM CAMERA NOT AVAILABLE')\n",
    "    else:\n",
    "        MaskAvailable=True\n",
    "        \n",
    "    Z_t=[position_thymio_rt[0],position_thymio_rt[1],angle_deg]\n",
    "                \n",
    "    left_speed=Ul\n",
    "    right_speed=Ur\n",
    "                \n",
    "    State_est_t,P_est_t=prediction(State_t,P_t,Q_t,left_speed,right_speed,temps_ecoule)    \n",
    "    State_t,P_t=update(State_est_t,P_est_t,Z_t,R_t,MaskAvailable, points, angle)\n",
    "\n",
    "    cv2.circle(frame,(int(State_t[0]), int(State_t[1])), 7, (255, 0, 0), 5)\n",
    "    \n",
    "\n",
    "# 4. Local navigation\n",
    "\n",
    "    await node.wait_for_variables({\"prox.horizontal\"})\n",
    "\n",
    "    for i in range(0, 6):\n",
    "        prox_horizontal[i]=list(node.v.prox.horizontal)[i]\n",
    "    await client.sleep(0.01)\n",
    "                \n",
    "    obst = [prox_horizontal[0], prox_horizontal[1], prox_horizontal[2], prox_horizontal[3], prox_horizontal[4]]\n",
    "    \n",
    "    #4.1 If no obstacles are detected, the Thymio follows the trajectory \n",
    "    if state == 0: \n",
    "        \n",
    "        # Switch from goal tracking to obstacle avoidance if obstacle detected\n",
    "        if (prox_horizontal[0] > obstThrH or  prox_horizontal[1] > obstThrH or prox_horizontal[2] > obstThrH or prox_horizontal[3] > obstThrH or prox_horizontal[4] > obstThrH ):\n",
    "            state = 1\n",
    "       \n",
    "        Xr = State_t[0]\n",
    "        Yr = State_t[1]\n",
    "        theta_r = State_t[2]\n",
    "\n",
    "        # To prevent the Thymio to move back, we skip a checkpoint when he passed it \n",
    "        # (Very useful when we use the Kalman filter without the camera informations)\n",
    "        if(Xr>Xt[current]+100):\n",
    "            current = current+1\n",
    "                        \n",
    "        if current < len(Xt): \n",
    "            Ul, Ur, Es, Et, phi = controller(Xr, Yr, theta_r, Xt[current], Yt[current])\n",
    "                \n",
    "            if abs(Es) > marge_s or abs(Et) > marge_t:\n",
    "                Ul, Ur, Es, Et, phi = controller(Xr, Yr, theta_r, Xt[current], Yt[current])\n",
    "                node.send_set_variables(motors(Ul, Ur))\n",
    "                cv2.putText(frame,str(phi) , (0,200), 2,2, (255,255,255))\n",
    "\n",
    "                \n",
    "            else:\n",
    "                current = current + 1\n",
    "                if current==len(Xt):\n",
    "                    break\n",
    "                          \n",
    "    #4.2 If an obstacle is detected, thymio switch to local avoidance\n",
    "    else: \n",
    "        print(\"LOCAL\")\n",
    "        #If the obstacle is too close from the checkpoint we can skip it\n",
    "        if np.sqrt((Xr-Xt[current])**2+(Yr-Yt[current])**2)<250 :\n",
    "                current = current+1\n",
    "        \n",
    "        # Motor commands to avoid the obstacle\n",
    "        Ul= obstSpeedGain * (-obst[0] // 50) - (obst[2]//50)*obstSpeedGain - (obst[1]//50)*obstSpeedGain\n",
    "        Ur= obstSpeedGain * (-obst[4] // 50) - (obst[2]//50)*obstSpeedGain - (obst[3]//50)*obstSpeedGain\n",
    "\n",
    "        \n",
    "        if obst[4] > obstThrH or obst[3] > obstThrH:\n",
    "            tourne_g = 1\n",
    "        \n",
    "        if obst[0] > obstThrH or obst[1] > obstThrH:\n",
    "            tourne_g = 0\n",
    "            \n",
    "        node.send_set_variables(motors(Ul, Ur))\n",
    "            \n",
    "        \n",
    "        # obstacle avoided\n",
    "        if (obst[0] < obstThrH) and (obst[1] < obstThrH) and  (obst[2] < obstThrH) and (obst[3] < obstThrH) and (obst[4] < obstThrH):\n",
    "            if tourne_g == 0:\n",
    "                Ul = 100\n",
    "                Ur = -100\n",
    "                    \n",
    "            if tourne_g == 1:\n",
    "                Ul = -100\n",
    "                Ur = 100\n",
    "                        \n",
    "            node.send_set_variables(motors(Ul, Ur))\n",
    "            await client.sleep(1.5)\n",
    "            Ul = 100\n",
    "            Ur = 100\n",
    "            node.send_set_variables(motors(Ul, Ur))\n",
    "            await client.sleep(8)\n",
    "            #If the checkpoint was passed during the obstacle avoidance step, we skip it\n",
    "            if Xr>Xt[current]:\n",
    "                current = current+1\n",
    "                    \n",
    "            state = 0\n",
    "    \n",
    "    \n",
    "  \n",
    "    cv2.imshow(\"result\",frame)\n",
    "    \n",
    "    if cv2.waitKey(1) & 0xFF == ord('q'):\n",
    "        print(Xr, Yr, goal_pix[0], goal_pix[1])\n",
    "        node.send_set_variables(motors(0, 0))\n",
    "        break\n",
    "\n",
    "node.send_set_variables(motors(0, 0))"
   ]
  },
  {
   "cell_type": "markdown",
   "metadata": {},
   "source": [
    "And we unlock the robot."
   ]
  },
  {
   "cell_type": "code",
   "execution_count": null,
   "metadata": {},
   "outputs": [],
   "source": [
    "await node.unlock()"
   ]
  },
  {
   "cell_type": "markdown",
   "metadata": {},
   "source": [
    "## 8. Conclusion<a name=\"con\"></a>"
   ]
  },
  {
   "cell_type": "markdown",
   "metadata": {},
   "source": [
    "Overall, the results are pretty good: the robot indeed follows its initial calculated path, avoids obstacles that were not planned and can locate itself on the map thanks to the filter. \n",
    "With the time given, the project was made as simple as possible, so very easy to implement, but also as the most efficiently possible. However, it can work very well only in specific conditions, the user has to be very aware of the lightning of the room, and the colours of the objects used. "
   ]
  },
  {
   "cell_type": "markdown",
   "metadata": {},
   "source": [
    "## Feedback <a name=\"feedback\"></a>"
   ]
  },
  {
   "cell_type": "markdown",
   "metadata": {},
   "source": [
    "This project has been a great way to familiarize ourselves with the Python environment to control the Thymio robot, and see the challenges that it faces while navigating, or even before starting its navigation."
   ]
  },
  {
   "cell_type": "markdown",
   "metadata": {},
   "source": [
    "## References<a name=\"ref\"></a>"
   ]
  },
  {
   "cell_type": "markdown",
   "metadata": {},
   "source": [
    "- Introduction to Mobile Robotics, Mondada\n",
    "- How a Kalman filter works in pictures: https://www.bzarg.com/p/how-a-kalman-filter-works-in-pictures/\n",
    "- Opencv tutorial videos: https://www.youtube.com/playlist?list=PLzMcBGfZo4-lUA8uGjeXhBUUzPYc6vZRn\n",
    "- Position and Orientation Control of a Two-Wheeled Differentially Driven Nonholonomic Mobile Robot.,Frederico C. VIEIRA    Adelardo A. D. MEDEIROS Pablo J. ALSINA Antonio ˆ P. ARAU´ JO Jr, https://www.researchgate.net/publication/221645976_Position_and_Orientation_Control_of_a_Two-Wheeled_Differentially_Driven_Nonholonomic_Mobile_Robot"
   ]
  },
  {
   "cell_type": "code",
   "execution_count": null,
   "metadata": {},
   "outputs": [],
   "source": []
  }
 ],
 "metadata": {
  "kernelspec": {
   "display_name": "Python 3 (ipykernel)",
   "language": "python",
   "name": "python3"
  },
  "language_info": {
   "codemirror_mode": {
    "name": "ipython",
    "version": 3
   },
   "file_extension": ".py",
   "mimetype": "text/x-python",
   "name": "python",
   "nbconvert_exporter": "python",
   "pygments_lexer": "ipython3",
   "version": "3.9.7"
  }
 },
 "nbformat": 4,
 "nbformat_minor": 2
}
